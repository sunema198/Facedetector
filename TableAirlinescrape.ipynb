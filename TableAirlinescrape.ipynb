{
  "nbformat": 4,
  "nbformat_minor": 0,
  "metadata": {
    "colab": {
      "name": "TableAirlinescrape.ipynb",
      "provenance": [],
      "collapsed_sections": [],
      "mount_file_id": "1zjipWykiUGX4s2TKMZ08qA6p9wTKKlq3",
      "authorship_tag": "ABX9TyOhtVQZPbb2/1bqX2k99GSP",
      "include_colab_link": true
    },
    "kernelspec": {
      "name": "python3",
      "display_name": "Python 3"
    }
  },
  "cells": [
    {
      "cell_type": "markdown",
      "metadata": {
        "id": "view-in-github",
        "colab_type": "text"
      },
      "source": [
        "<a href=\"https://colab.research.google.com/github/sunema198/Listsofpeople/blob/new/TableAirlinescrape.ipynb\" target=\"_parent\"><img src=\"https://colab.research.google.com/assets/colab-badge.svg\" alt=\"Open In Colab\"/></a>"
      ]
    },
    {
      "cell_type": "code",
      "metadata": {
        "id": "NoP7zUHi3UrT",
        "colab_type": "code",
        "colab": {}
      },
      "source": [
        "import requests\n",
        "import urllib.request\n",
        "from bs4 import BeautifulSoup\n",
        "import numpy as np\n",
        "import pandas as pd\n",
        "from urllib.request import urlopen"
      ],
      "execution_count": 0,
      "outputs": []
    },
    {
      "cell_type": "code",
      "metadata": {
        "id": "jgp0F1W83-gb",
        "colab_type": "code",
        "colab": {}
      },
      "source": [
        "url = 'https://en.wikipedia.org/wiki/List_of_airline_codes'"
      ],
      "execution_count": 0,
      "outputs": []
    },
    {
      "cell_type": "code",
      "metadata": {
        "id": "KC1X54yO4FET",
        "colab_type": "code",
        "colab": {}
      },
      "source": [
        "html = urlopen(url)"
      ],
      "execution_count": 0,
      "outputs": []
    },
    {
      "cell_type": "code",
      "metadata": {
        "id": "Gk23b0Gs4Ihj",
        "colab_type": "code",
        "colab": {}
      },
      "source": [
        "soup = BeautifulSoup(html, 'html.parser')"
      ],
      "execution_count": 0,
      "outputs": []
    },
    {
      "cell_type": "code",
      "metadata": {
        "id": "y5tDWv2f4ePf",
        "colab_type": "code",
        "colab": {}
      },
      "source": [
        "my_table = soup.find_all('table')"
      ],
      "execution_count": 0,
      "outputs": []
    },
    {
      "cell_type": "code",
      "metadata": {
        "id": "zJTMUFep-J9j",
        "colab_type": "code",
        "colab": {}
      },
      "source": [
        "iatas = []\n",
        "icaos = []\n",
        "airlines = []\n",
        "countries = []\n",
        "\n",
        "for table in my_table:\n",
        "  rows = table.find_all('tr')\n",
        "\n",
        "  for row in rows:\n",
        "    cells = row.find_all('td')\n",
        "\n",
        "    if len(cells) > 1:\n",
        "      iata = cells[0]\n",
        "      iatas.append(iata.text.strip())\n",
        "\n",
        "      icao = cells[1]\n",
        "      icaos.append(icao.text.strip())\n",
        "\n",
        "      airline = cells[2]\n",
        "      airlines.append(airline.text.strip())\n",
        "\n",
        "      country = cells[4]\n",
        "      countries.append(country.text.strip())\n",
        "\n"
      ],
      "execution_count": 0,
      "outputs": []
    },
    {
      "cell_type": "code",
      "metadata": {
        "id": "QsXAM9ttENK3",
        "colab_type": "code",
        "outputId": "042f3765-2ffb-4066-b772-f066c5934b3a",
        "colab": {
          "base_uri": "https://localhost:8080/",
          "height": 419
        }
      },
      "source": [
        "df1 = pd.DataFrame(iatas, index= airlines, columns = ['IATA'])\n",
        "df1['ICAO'] = icaos\n",
        "df1['Country/Region'] = countries\n",
        "\n",
        "df1"
      ],
      "execution_count": 0,
      "outputs": [
        {
          "output_type": "execute_result",
          "data": {
            "text/html": [
              "<div>\n",
              "<style scoped>\n",
              "    .dataframe tbody tr th:only-of-type {\n",
              "        vertical-align: middle;\n",
              "    }\n",
              "\n",
              "    .dataframe tbody tr th {\n",
              "        vertical-align: top;\n",
              "    }\n",
              "\n",
              "    .dataframe thead th {\n",
              "        text-align: right;\n",
              "    }\n",
              "</style>\n",
              "<table border=\"1\" class=\"dataframe\">\n",
              "  <thead>\n",
              "    <tr style=\"text-align: right;\">\n",
              "      <th></th>\n",
              "      <th>IATA</th>\n",
              "      <th>ICAO</th>\n",
              "      <th>Country/Region</th>\n",
              "    </tr>\n",
              "  </thead>\n",
              "  <tbody>\n",
              "    <tr>\n",
              "      <th>34 Squadron, Royal Australian Air Force</th>\n",
              "      <td></td>\n",
              "      <td>EVY</td>\n",
              "      <td>Australia</td>\n",
              "    </tr>\n",
              "    <tr>\n",
              "      <th>135 Airways</th>\n",
              "      <td></td>\n",
              "      <td>GNL</td>\n",
              "      <td>United States</td>\n",
              "    </tr>\n",
              "    <tr>\n",
              "      <th>Amadeus IT Group S.A.</th>\n",
              "      <td>1A</td>\n",
              "      <td>n/a</td>\n",
              "      <td>Global</td>\n",
              "    </tr>\n",
              "    <tr>\n",
              "      <th>Sabre travel network Asia-Pacific (ex-Abacus)</th>\n",
              "      <td>1B</td>\n",
              "      <td>n/a</td>\n",
              "      <td>APAC</td>\n",
              "    </tr>\n",
              "    <tr>\n",
              "      <th>Travelsky</th>\n",
              "      <td>1E</td>\n",
              "      <td>n/a</td>\n",
              "      <td>China</td>\n",
              "    </tr>\n",
              "    <tr>\n",
              "      <th>...</th>\n",
              "      <td>...</td>\n",
              "      <td>...</td>\n",
              "      <td>...</td>\n",
              "    </tr>\n",
              "    <tr>\n",
              "      <th>Zhongyuan Aviation</th>\n",
              "      <td></td>\n",
              "      <td>CYN</td>\n",
              "      <td>China</td>\n",
              "    </tr>\n",
              "    <tr>\n",
              "      <th>Zip</th>\n",
              "      <td>3J</td>\n",
              "      <td>WZP</td>\n",
              "      <td>Canada</td>\n",
              "    </tr>\n",
              "    <tr>\n",
              "      <th>ZIPAIR Tokyo</th>\n",
              "      <td></td>\n",
              "      <td>TZT</td>\n",
              "      <td>Japan</td>\n",
              "    </tr>\n",
              "    <tr>\n",
              "      <th>Zoom Airlines</th>\n",
              "      <td>Z4</td>\n",
              "      <td>OOM</td>\n",
              "      <td>Canada</td>\n",
              "    </tr>\n",
              "    <tr>\n",
              "      <th>Zorex</th>\n",
              "      <td></td>\n",
              "      <td>ORZ</td>\n",
              "      <td>Spain</td>\n",
              "    </tr>\n",
              "  </tbody>\n",
              "</table>\n",
              "<p>6230 rows × 3 columns</p>\n",
              "</div>"
            ],
            "text/plain": [
              "                                              IATA ICAO Country/Region\n",
              "34 Squadron, Royal Australian Air Force             EVY      Australia\n",
              "135 Airways                                         GNL  United States\n",
              "Amadeus IT Group S.A.                           1A  n/a         Global\n",
              "Sabre travel network Asia-Pacific (ex-Abacus)   1B  n/a           APAC\n",
              "Travelsky                                       1E  n/a          China\n",
              "...                                            ...  ...            ...\n",
              "Zhongyuan Aviation                                  CYN          China\n",
              "Zip                                             3J  WZP         Canada\n",
              "ZIPAIR Tokyo                                        TZT          Japan\n",
              "Zoom Airlines                                   Z4  OOM         Canada\n",
              "Zorex                                               ORZ          Spain\n",
              "\n",
              "[6230 rows x 3 columns]"
            ]
          },
          "metadata": {
            "tags": []
          },
          "execution_count": 89
        }
      ]
    },
    {
      "cell_type": "code",
      "metadata": {
        "id": "MaVD970iEO4A",
        "colab_type": "code",
        "outputId": "2eb107bd-b2ce-426a-c306-193d6b1b7280",
        "colab": {
          "base_uri": "https://localhost:8080/",
          "height": 419
        }
      },
      "source": [
        "df1['IATA'].replace('', np.nan, inplace=True)\n",
        "df1['ICAO'].replace(['n/a', ''], '', inplace=True)\n",
        "df1"
      ],
      "execution_count": 0,
      "outputs": [
        {
          "output_type": "execute_result",
          "data": {
            "text/html": [
              "<div>\n",
              "<style scoped>\n",
              "    .dataframe tbody tr th:only-of-type {\n",
              "        vertical-align: middle;\n",
              "    }\n",
              "\n",
              "    .dataframe tbody tr th {\n",
              "        vertical-align: top;\n",
              "    }\n",
              "\n",
              "    .dataframe thead th {\n",
              "        text-align: right;\n",
              "    }\n",
              "</style>\n",
              "<table border=\"1\" class=\"dataframe\">\n",
              "  <thead>\n",
              "    <tr style=\"text-align: right;\">\n",
              "      <th></th>\n",
              "      <th>IATA</th>\n",
              "      <th>ICAO</th>\n",
              "      <th>Country/Region</th>\n",
              "    </tr>\n",
              "  </thead>\n",
              "  <tbody>\n",
              "    <tr>\n",
              "      <th>34 Squadron, Royal Australian Air Force</th>\n",
              "      <td>NaN</td>\n",
              "      <td>EVY</td>\n",
              "      <td>Australia</td>\n",
              "    </tr>\n",
              "    <tr>\n",
              "      <th>135 Airways</th>\n",
              "      <td>NaN</td>\n",
              "      <td>GNL</td>\n",
              "      <td>United States</td>\n",
              "    </tr>\n",
              "    <tr>\n",
              "      <th>Amadeus IT Group S.A.</th>\n",
              "      <td>1A</td>\n",
              "      <td></td>\n",
              "      <td>Global</td>\n",
              "    </tr>\n",
              "    <tr>\n",
              "      <th>Sabre travel network Asia-Pacific (ex-Abacus)</th>\n",
              "      <td>1B</td>\n",
              "      <td></td>\n",
              "      <td>APAC</td>\n",
              "    </tr>\n",
              "    <tr>\n",
              "      <th>Travelsky</th>\n",
              "      <td>1E</td>\n",
              "      <td></td>\n",
              "      <td>China</td>\n",
              "    </tr>\n",
              "    <tr>\n",
              "      <th>...</th>\n",
              "      <td>...</td>\n",
              "      <td>...</td>\n",
              "      <td>...</td>\n",
              "    </tr>\n",
              "    <tr>\n",
              "      <th>Zhongyuan Aviation</th>\n",
              "      <td>NaN</td>\n",
              "      <td>CYN</td>\n",
              "      <td>China</td>\n",
              "    </tr>\n",
              "    <tr>\n",
              "      <th>Zip</th>\n",
              "      <td>3J</td>\n",
              "      <td>WZP</td>\n",
              "      <td>Canada</td>\n",
              "    </tr>\n",
              "    <tr>\n",
              "      <th>ZIPAIR Tokyo</th>\n",
              "      <td>NaN</td>\n",
              "      <td>TZT</td>\n",
              "      <td>Japan</td>\n",
              "    </tr>\n",
              "    <tr>\n",
              "      <th>Zoom Airlines</th>\n",
              "      <td>Z4</td>\n",
              "      <td>OOM</td>\n",
              "      <td>Canada</td>\n",
              "    </tr>\n",
              "    <tr>\n",
              "      <th>Zorex</th>\n",
              "      <td>NaN</td>\n",
              "      <td>ORZ</td>\n",
              "      <td>Spain</td>\n",
              "    </tr>\n",
              "  </tbody>\n",
              "</table>\n",
              "<p>6230 rows × 3 columns</p>\n",
              "</div>"
            ],
            "text/plain": [
              "                                              IATA ICAO Country/Region\n",
              "34 Squadron, Royal Australian Air Force        NaN  EVY      Australia\n",
              "135 Airways                                    NaN  GNL  United States\n",
              "Amadeus IT Group S.A.                           1A              Global\n",
              "Sabre travel network Asia-Pacific (ex-Abacus)   1B                APAC\n",
              "Travelsky                                       1E               China\n",
              "...                                            ...  ...            ...\n",
              "Zhongyuan Aviation                             NaN  CYN          China\n",
              "Zip                                             3J  WZP         Canada\n",
              "ZIPAIR Tokyo                                   NaN  TZT          Japan\n",
              "Zoom Airlines                                   Z4  OOM         Canada\n",
              "Zorex                                          NaN  ORZ          Spain\n",
              "\n",
              "[6230 rows x 3 columns]"
            ]
          },
          "metadata": {
            "tags": []
          },
          "execution_count": 90
        }
      ]
    },
    {
      "cell_type": "code",
      "metadata": {
        "id": "AV_O8bWMEgEn",
        "colab_type": "code",
        "outputId": "fd82ef36-610f-4a18-c9b5-2312a59cef93",
        "colab": {
          "base_uri": "https://localhost:8080/",
          "height": 269
        }
      },
      "source": [
        "df1.dropna(subset=['IATA'], inplace=True)\n",
        "print(df1)"
      ],
      "execution_count": 0,
      "outputs": [
        {
          "output_type": "stream",
          "text": [
            "                                              IATA ICAO Country/Region\n",
            "Amadeus IT Group S.A.                           1A              Global\n",
            "Sabre travel network Asia-Pacific (ex-Abacus)   1B                APAC\n",
            "Travelsky                                       1E               China\n",
            "Infini travel information, Inc.                 1F               Japan\n",
            "Travelport (Galileo core)                       1G              Global\n",
            "...                                            ...  ...            ...\n",
            "Yuzhmashavia                                    2N  UMK        Ukraine\n",
            "Zimex Aviation                                  C4  IMX    Switzerland\n",
            "Zambian Airways                                 Q3  MBN         Zambia\n",
            "Zip                                             3J  WZP         Canada\n",
            "Zoom Airlines                                   Z4  OOM         Canada\n",
            "\n",
            "[1379 rows x 3 columns]\n"
          ],
          "name": "stdout"
        }
      ]
    },
    {
      "cell_type": "code",
      "metadata": {
        "id": "zz38Y6KvBRaK",
        "colab_type": "code",
        "colab": {}
      },
      "source": [
        "df1.to_csv (r'airlines.csv', index = True, header=True) #Don't forget to add '.csv' at the end of the path"
      ],
      "execution_count": 0,
      "outputs": []
    },
    {
      "cell_type": "markdown",
      "metadata": {
        "id": "if88P6uQ_4bb",
        "colab_type": "text"
      },
      "source": [
        ""
      ]
    },
    {
      "cell_type": "code",
      "metadata": {
        "id": "4ubuxZQvFOxD",
        "colab_type": "code",
        "outputId": "f590743d-bda7-4bbf-bd91-45da793db65e",
        "colab": {
          "base_uri": "https://localhost:8080/",
          "height": 127
        }
      },
      "source": [
        "from google.colab import drive\n",
        "drive.mount('/content/gdrive') \n"
      ],
      "execution_count": 0,
      "outputs": [
        {
          "output_type": "stream",
          "text": [
            "Go to this URL in a browser: https://accounts.google.com/o/oauth2/auth?client_id=947318989803-6bn6qk8qdgf4n4g3pfee6491hc0brc4i.apps.googleusercontent.com&redirect_uri=urn%3aietf%3awg%3aoauth%3a2.0%3aoob&response_type=code&scope=email%20https%3a%2f%2fwww.googleapis.com%2fauth%2fdocs.test%20https%3a%2f%2fwww.googleapis.com%2fauth%2fdrive%20https%3a%2f%2fwww.googleapis.com%2fauth%2fdrive.photos.readonly%20https%3a%2f%2fwww.googleapis.com%2fauth%2fpeopleapi.readonly\n",
            "\n",
            "Enter your authorization code:\n",
            "··········\n",
            "Mounted at /content/gdrive\n"
          ],
          "name": "stdout"
        }
      ]
    },
    {
      "cell_type": "code",
      "metadata": {
        "id": "NHubdMUS-9Zq",
        "colab_type": "code",
        "colab": {}
      },
      "source": [
        ""
      ],
      "execution_count": 0,
      "outputs": []
    }
  ]
}